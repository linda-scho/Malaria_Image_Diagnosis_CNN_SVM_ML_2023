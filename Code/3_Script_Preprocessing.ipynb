{
 "cells": [
  {
   "cell_type": "markdown",
   "metadata": {
    "id": "b3xOFkzi_DTF"
   },
   "source": [
    "## Import Libraries\n"
   ]
  },
  {
   "cell_type": "code",
   "execution_count": 1,
   "metadata": {
    "id": "JuP35xSSdYpo"
   },
   "outputs": [],
   "source": [
    "import os\n",
    "import re\n",
    "\n",
    "import pandas as pd\n",
    "import matplotlib.pyplot as plt\n",
    "from collections import Counter\n",
    "\n",
    "import numpy as np\n",
    "import PIL as pil # to read images\n",
    "import matplotlib.image as mpimg # read images as array\n",
    "\n",
    "from scipy import ndimage\n",
    "\n",
    "from imblearn.under_sampling import RandomUnderSampler\n",
    "from tqdm import tqdm\n",
    "\n",
    "import tensorflow as tf\n",
    "import tensorflow_datasets as tfds\n",
    "from tensorflow.keras.preprocessing.image import img_to_array\n",
    "from tensorflow.keras.preprocessing.image import load_img"
   ]
  },
  {
   "cell_type": "markdown",
   "metadata": {
    "id": "YiIJmVUO4dxj"
   },
   "source": [
    "## Data Loading"
   ]
  },
  {
   "cell_type": "code",
   "execution_count": 4,
   "metadata": {
    "id": "co-zH7TS61pn"
   },
   "outputs": [],
   "source": [
    "# Get arrays of filenames & labels of training, test and validation set\n",
    "X_train = np.load('Image Numpys_saved/X_train.npy')\n",
    "X_test = np.load('Image Numpys_saved/X_test.npy')\n",
    "X_val = np.load('Image Numpys_saved/X_val.npy')\n",
    "y_train = np.load('Image Numpys_saved/y_train.npy')\n",
    "y_test = np.load('Image Numpys_saved/y_test.npy')\n",
    "y_val = np.load('Image Numpys_saved/y_val.npy')"
   ]
  },
  {
   "cell_type": "code",
   "execution_count": 5,
   "metadata": {
    "colab": {
     "base_uri": "https://localhost:8080/"
    },
    "id": "HidVrR5o7gHs",
    "outputId": "f7e09b41-8ffe-402e-e0e1-7857ba751461"
   },
   "outputs": [
    {
     "name": "stdout",
     "output_type": "stream",
     "text": [
      "Number of Items in Training Set:  4470 4470\n",
      "Distribution of Labels in Training Set:  [(0, 1470), (1, 3000)]\n",
      "Number of Items in Validation Set:  1490 1490\n",
      "Distribution of Labels in Validation Set:  [(0, 490), (1, 1000)]\n",
      "Number of Items in Test Set:  1491 1491\n",
      "Distribution of Labels in Test Set:  [(0, 491), (1, 1000)]\n"
     ]
    }
   ],
   "source": [
    "# check length and class size for each set\n",
    "print(\"Number of Items in Training Set: \", len(X_train), len(y_train))\n",
    "print(\"Distribution of Labels in Training Set: \", sorted(Counter(y_train).items()))\n",
    "print(\"Number of Items in Validation Set: \",len(X_val), len(y_val))\n",
    "print(\"Distribution of Labels in Validation Set: \", sorted(Counter(y_val).items()))\n",
    "print(\"Number of Items in Test Set: \",len(X_test), len(y_test))\n",
    "print(\"Distribution of Labels in Test Set: \", sorted(Counter(y_test).items()))"
   ]
  },
  {
   "cell_type": "markdown",
   "metadata": {
    "id": "BwSw3vhfugUw"
   },
   "source": [
    "# Create image pixel array"
   ]
  },
  {
   "cell_type": "code",
   "execution_count": 14,
   "metadata": {
    "id": "TQjriu0U4whL"
   },
   "outputs": [],
   "source": [
    "# Create a function to create a numpy array with the pixels of the files\n",
    "def get_pix_array(file_names, new_array):\n",
    "    for index, file in tqdm(enumerate(file_names)):\n",
    "        image_dir = \"filtered_cropped_images_saved/\"\n",
    "        image = load_img(image_dir+file)\n",
    "\n",
    "        image = tf.image.convert_image_dtype(image, tf.float32)\n",
    "        image = tf.image.resize(image, (128, 128)) # Resizing the image to 128x128 dimension\n",
    "\n",
    "        new_array.append(img_to_array(image))\n",
    "\n",
    "    new_array1 = np.array(new_array)\n",
    "    return new_array1"
   ]
  },
  {
   "cell_type": "code",
   "execution_count": 15,
   "metadata": {
    "colab": {
     "base_uri": "https://localhost:8080/"
    },
    "id": "0YMrTsEO5e9h",
    "outputId": "23bbe2a6-074f-4f10-dded-af95421f21fb"
   },
   "outputs": [
    {
     "name": "stderr",
     "output_type": "stream",
     "text": [
      "1490it [17:45,  1.40it/s]\n"
     ]
    }
   ],
   "source": [
    "X_val_pix = []\n",
    "X_val_pix = get_pix_array(X_val, X_val_pix)"
   ]
  },
  {
   "cell_type": "code",
   "execution_count": 17,
   "metadata": {
    "colab": {
     "base_uri": "https://localhost:8080/"
    },
    "id": "t1mhAsALDgvO",
    "outputId": "2f0ba9c6-ee4d-4a93-f6f5-bf52a10bdc6c"
   },
   "outputs": [
    {
     "name": "stderr",
     "output_type": "stream",
     "text": [
      "1491it [17:53,  1.39it/s]\n"
     ]
    }
   ],
   "source": [
    "X_test_pix = []\n",
    "X_test_pix = get_pix_array(X_test,X_test_pix )"
   ]
  },
  {
   "cell_type": "code",
   "execution_count": 19,
   "metadata": {
    "colab": {
     "base_uri": "https://localhost:8080/"
    },
    "id": "f-ktoJTGW2oC",
    "outputId": "b449c314-64b7-4ddb-b16d-4fa39b6ada90"
   },
   "outputs": [
    {
     "name": "stderr",
     "output_type": "stream",
     "text": [
      "4470it [54:37,  1.36it/s]\n"
     ]
    }
   ],
   "source": [
    "X_train_pix = []\n",
    "X_train_pix = get_pix_array(X_train,X_train_pix )"
   ]
  },
  {
   "cell_type": "markdown",
   "metadata": {
    "id": "_MRrRjG1gttc"
   },
   "source": [
    "## Oversampling"
   ]
  },
  {
   "cell_type": "code",
   "execution_count": 20,
   "metadata": {
    "id": "DWqwEtWng2rb"
   },
   "outputs": [],
   "source": [
    "from imblearn.over_sampling import ADASYN\n",
    "\n",
    "# reshape X to 2D array\n",
    "X_train_reshaped = X_train_pix.reshape(X_train_pix.shape[0], -1)\n",
    "X_val_reshaped = X_val_pix.reshape(X_val_pix.shape[0], -1)\n",
    "\n",
    "# define resampling\n",
    "over = ADASYN(random_state=42)\n",
    "\n",
    "# fit and apply resampling\n",
    "X_train_resampled, y_train_resampled = over.fit_resample(X_train_reshaped, y_train)\n",
    "X_val_resampled, y_val_resampled = over.fit_resample(X_val_reshaped, y_val)\n",
    "\n",
    "# reshape X back to 4D array\n",
    "X_train_resampled = X_train_resampled.reshape(X_train_resampled.shape[0], 128, 128, 3)          \n",
    "X_val_resampled = X_val_resampled.reshape(X_val_resampled.shape[0], 128, 128, 3) "
   ]
  },
  {
   "cell_type": "code",
   "execution_count": 21,
   "metadata": {
    "id": "yyKQE52j-Avr"
   },
   "outputs": [],
   "source": [
    "# Save the numpy arrays\n",
    "np.save('Image Numpys/X_train_resampled', X_train_resampled)\n",
    "np.save('Image Numpys/y_train_resampled', y_train_resampled)\n",
    "np.save('Image Numpys/X_val_resampled', X_val_resampled)\n",
    "np.save('Image Numpys/y_val_resampled', y_val_resampled)"
   ]
  },
  {
   "cell_type": "code",
   "execution_count": 22,
   "metadata": {
    "colab": {
     "base_uri": "https://localhost:8080/"
    },
    "id": "-3B-lCSjqRFL",
    "outputId": "70dfe97e-d6d0-4536-9607-2f6eb40f4bb9"
   },
   "outputs": [
    {
     "data": {
      "text/plain": [
       "{0: 3043, 1: 3000}"
      ]
     },
     "execution_count": 22,
     "metadata": {},
     "output_type": "execute_result"
    }
   ],
   "source": [
    "unique, counts = np.unique(y_train_resampled, return_counts=True)\n",
    "dict(zip(unique, counts))"
   ]
  },
  {
   "cell_type": "code",
   "execution_count": 23,
   "metadata": {
    "colab": {
     "base_uri": "https://localhost:8080/"
    },
    "id": "Yo1DHH9Z2-ko",
    "outputId": "b023003d-fb71-4e06-f074-a0a77910a22d"
   },
   "outputs": [
    {
     "data": {
      "text/plain": [
       "{0: 1042, 1: 1000}"
      ]
     },
     "execution_count": 23,
     "metadata": {},
     "output_type": "execute_result"
    }
   ],
   "source": [
    "unique, counts = np.unique(y_val_resampled, return_counts=True)\n",
    "dict(zip(unique, counts))"
   ]
  },
  {
   "cell_type": "code",
   "execution_count": 25,
   "metadata": {
    "colab": {
     "base_uri": "https://localhost:8080/"
    },
    "id": "PxFdaLie3BUD",
    "outputId": "0fbb7899-0696-47f4-da8e-1e88e6de29b4"
   },
   "outputs": [
    {
     "data": {
      "text/plain": [
       "{0: 491, 1: 1000}"
      ]
     },
     "execution_count": 25,
     "metadata": {},
     "output_type": "execute_result"
    }
   ],
   "source": [
    "unique, counts = np.unique(y_test, return_counts=True)\n",
    "dict(zip(unique, counts))"
   ]
  }
 ],
 "metadata": {
  "accelerator": "GPU",
  "colab": {
   "collapsed_sections": [
    "b3xOFkzi_DTF",
    "YWA_FnWaM_x-"
   ],
   "machine_shape": "hm",
   "provenance": []
  },
  "gpuClass": "standard",
  "kernelspec": {
   "display_name": "Python 3 (ipykernel)",
   "language": "python",
   "name": "python3"
  },
  "language_info": {
   "codemirror_mode": {
    "name": "ipython",
    "version": 3
   },
   "file_extension": ".py",
   "mimetype": "text/x-python",
   "name": "python",
   "nbconvert_exporter": "python",
   "pygments_lexer": "ipython3",
   "version": "3.8.12"
  },
  "toc": {
   "base_numbering": 1,
   "nav_menu": {},
   "number_sections": true,
   "sideBar": true,
   "skip_h1_title": false,
   "title_cell": "Table of Contents",
   "title_sidebar": "Contents",
   "toc_cell": false,
   "toc_position": {},
   "toc_section_display": true,
   "toc_window_display": false
  }
 },
 "nbformat": 4,
 "nbformat_minor": 4
}
