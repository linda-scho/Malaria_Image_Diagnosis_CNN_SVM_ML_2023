{
 "cells": [
  {
   "cell_type": "code",
   "execution_count": null,
   "id": "fe3d5dd3-f49b-44d3-94c4-4839a61fda66",
   "metadata": {
    "id": "fe3d5dd3-f49b-44d3-94c4-4839a61fda66",
    "tags": []
   },
   "outputs": [],
   "source": [
    "import pickle\n",
    "import random\n",
    "import numpy as np\n",
    "import matplotlib.pyplot as plt\n",
    "\n",
    "from scipy import stats\n",
    "from sklearn.svm import SVC\n",
    "from sklearn.model_selection import GridSearchCV, RandomizedSearchCV\n",
    "from sklearn.decomposition import PCA\n",
    "\n",
    "from sklearn.metrics import confusion_matrix, classification_report, accuracy_score, roc_curve"
   ]
  },
  {
   "cell_type": "markdown",
   "id": "554b793e-c385-4231-9689-deff430d46bb",
   "metadata": {
    "execution": {
     "iopub.execute_input": "2023-05-10T12:59:37.302941Z",
     "iopub.status.busy": "2023-05-10T12:59:37.302267Z",
     "iopub.status.idle": "2023-05-10T12:59:37.309737Z",
     "shell.execute_reply": "2023-05-10T12:59:37.308484Z",
     "shell.execute_reply.started": "2023-05-10T12:59:37.302885Z"
    },
    "id": "554b793e-c385-4231-9689-deff430d46bb",
    "tags": []
   },
   "source": [
    "# Data Loading"
   ]
  },
  {
   "cell_type": "code",
   "execution_count": null,
   "id": "9cOMmyUEthCt",
   "metadata": {
    "colab": {
     "base_uri": "https://localhost:8080/"
    },
    "executionInfo": {
     "elapsed": 79682,
     "status": "ok",
     "timestamp": 1684226967527,
     "user": {
      "displayName": "Mira Metzger",
      "userId": "01779271164224279332"
     },
     "user_tz": -120
    },
    "id": "9cOMmyUEthCt",
    "outputId": "7c0ba6db-aff6-4984-8d33-f328ac875ea9"
   },
   "outputs": [
    {
     "name": "stdout",
     "output_type": "stream",
     "text": [
      "Mounted at /content/drive\n"
     ]
    }
   ],
   "source": [
    "# connect to google drive\n",
    "#from google.colab import drive\n",
    "#drive.mount('/content/drive')"
   ]
  },
  {
   "cell_type": "code",
   "execution_count": null,
   "id": "c2aa49d9-4f7b-4a75-9809-b8f2ec9a3597",
   "metadata": {
    "id": "c2aa49d9-4f7b-4a75-9809-b8f2ec9a3597",
    "tags": []
   },
   "outputs": [],
   "source": [
    "folder_clean_data = \"Image Numpys_saved/\"\n",
    "\n",
    "# load data\n",
    "X_train = np.load(folder_clean_data + 'X_train_resampled.npy')\n",
    "y_train = np.load(folder_clean_data + 'y_train_resampled.npy')\n",
    "X_val = np.load(folder_clean_data + 'X_val_resampled.npy')\n",
    "y_val = np.load(folder_clean_data + 'y_val_resampled.npy')\n",
    "X_test = np.load(folder_clean_data + 'X_test_pix.npy')\n",
    "y_test = np.load(folder_clean_data + 'y_test.npy')"
   ]
  },
  {
   "cell_type": "code",
   "execution_count": null,
   "id": "6b8de6f7-8205-465a-a8f5-492b45e2ccca",
   "metadata": {
    "colab": {
     "base_uri": "https://localhost:8080/"
    },
    "executionInfo": {
     "elapsed": 4,
     "status": "ok",
     "timestamp": 1684227027736,
     "user": {
      "displayName": "Mira Metzger",
      "userId": "01779271164224279332"
     },
     "user_tz": -120
    },
    "id": "6b8de6f7-8205-465a-a8f5-492b45e2ccca",
    "outputId": "f298f516-2874-4b10-bbd6-fa46ecca4553",
    "tags": []
   },
   "outputs": [
    {
     "name": "stdout",
     "output_type": "stream",
     "text": [
      "\n",
      "X train shape: (6043, 128, 128, 3)\n",
      "y train shape: (6043,)\n",
      "X validation shape: (2042, 128, 128, 3)\n",
      "y validation shape: (2042,)\n",
      "X test shape: (1491, 128, 128, 3)\n",
      "y test shape: (1491,)\n",
      "\n"
     ]
    }
   ],
   "source": [
    "# check the size of the train, validation and test set\n",
    "print(f\"\"\"\n",
    "X train shape: {X_train.shape}\n",
    "y train shape: {y_train.shape}\n",
    "X validation shape: {X_val.shape}\n",
    "y validation shape: {y_val.shape}\n",
    "X test shape: {X_test.shape}\n",
    "y test shape: {y_test.shape}\n",
    "\"\"\")"
   ]
  },
  {
   "cell_type": "code",
   "execution_count": null,
   "id": "3245ad58-790f-457b-81f9-04737835c099",
   "metadata": {
    "colab": {
     "base_uri": "https://localhost:8080/"
    },
    "executionInfo": {
     "elapsed": 1786,
     "status": "ok",
     "timestamp": 1684227029521,
     "user": {
      "displayName": "Mira Metzger",
      "userId": "01779271164224279332"
     },
     "user_tz": -120
    },
    "id": "3245ad58-790f-457b-81f9-04737835c099",
    "outputId": "f1bae881-074e-4110-94f1-7145393934e8",
    "tags": []
   },
   "outputs": [
    {
     "data": {
      "text/plain": [
       "(8085, 128, 128, 3)"
      ]
     },
     "execution_count": 5,
     "metadata": {},
     "output_type": "execute_result"
    }
   ],
   "source": [
    "# merge train and validation (as cross validation cv is used)\n",
    "X_train_merged = np.concatenate((X_train, X_val), axis=0)\n",
    "y_train_merged = np.concatenate((y_train, y_val), axis=0)\n",
    "X_train_merged.shape"
   ]
  },
  {
   "cell_type": "markdown",
   "id": "82628fc7-4feb-4e4f-ba2c-7d223c2a64cc",
   "metadata": {
    "id": "82628fc7-4feb-4e4f-ba2c-7d223c2a64cc",
    "jp-MarkdownHeadingCollapsed": true,
    "tags": []
   },
   "source": [
    "# (Data Augmentation)"
   ]
  },
  {
   "cell_type": "code",
   "execution_count": null,
   "id": "ca9f63de-4a6e-4f44-9736-91ebd99261ab",
   "metadata": {
    "id": "ca9f63de-4a6e-4f44-9736-91ebd99261ab",
    "tags": []
   },
   "outputs": [],
   "source": [
    "from keras.preprocessing.image import ImageDataGenerator\n",
    "\n",
    "batch_size = X_train_merged.shape[0]\n",
    "\n",
    "# Create an ImageDataGenerator for data augmentation\n",
    "datagen = ImageDataGenerator(\n",
    "    rotation_range=20,\n",
    "    horizontal_flip=True,\n",
    "    vertical_flip=True\n",
    "    )\n",
    "\n",
    "# Create generators for training and test data\n",
    "train_generator = datagen.flow(\n",
    "    x= X_train_merged,\n",
    "    y= y_train_merged,\n",
    "    batch_size= batch_size\n",
    ")"
   ]
  },
  {
   "cell_type": "code",
   "execution_count": null,
   "id": "3b8ee171-beff-4c03-92ae-81ac5451da94",
   "metadata": {
    "id": "3b8ee171-beff-4c03-92ae-81ac5451da94",
    "tags": []
   },
   "outputs": [],
   "source": [
    "# transform to a numpy array to be used for scikit-learn classifiers\n",
    "len_dataset = X_train_merged.shape[0]\n",
    "num_clases = 2\n",
    "# define the factor by which the dataset should be augmented\n",
    "augmentation_factor = 2\n",
    "\n",
    "# generate empty arrays to append\n",
    "X_train_aug = np.empty((batch_size * augmentation_factor, \n",
    "                        X_train_merged.shape[1], \n",
    "                        X_train_merged.shape[2], \n",
    "                        X_train_merged.shape[3]))\n",
    "\n",
    "y_train_aug = np.empty((batch_size * augmentation_factor))\n",
    "\n",
    "# append the generated images to the arrays\n",
    "for i in range(augmentation_factor):\n",
    "    x_batch, y_batch = train_generator.next()\n",
    "    for j in range(x_batch.shape[0]): # number of images for each batch\n",
    "        X_train_aug[i*x_batch.shape[0]+j] = x_batch[j]\n",
    "        y_train_aug[i*x_batch.shape[0]+j] = y_batch[j]"
   ]
  },
  {
   "cell_type": "code",
   "execution_count": null,
   "id": "342320c2-bb34-4507-8dcf-b8fad9aeedd7",
   "metadata": {
    "id": "342320c2-bb34-4507-8dcf-b8fad9aeedd7",
    "tags": []
   },
   "outputs": [],
   "source": [
    "# plot some of the augmented images\n",
    "fig = plt.figure(figsize=(7,10))\n",
    "\n",
    "for i in range(15):\n",
    "    index = random.randint(0,X_train_aug.shape[0])\n",
    "    plt.subplot(5, 5, i + 1)\n",
    "    plt.imshow(X_train_aug[index])\n",
    "    plt.title(y_train_aug[index])\n",
    "    plt.xticks(())\n",
    "    plt.yticks(())\n",
    "\n",
    "plt.tight_layout()"
   ]
  },
  {
   "cell_type": "markdown",
   "id": "66b0ced2-5fff-4b15-ae13-723a93e7f634",
   "metadata": {
    "id": "66b0ced2-5fff-4b15-ae13-723a93e7f634",
    "tags": []
   },
   "source": [
    "# Dimensionality Reduction"
   ]
  },
  {
   "cell_type": "code",
   "execution_count": null,
   "id": "21e620c7-8f75-40e8-8c20-ab86eeceee2b",
   "metadata": {
    "colab": {
     "base_uri": "https://localhost:8080/"
    },
    "executionInfo": {
     "elapsed": 235,
     "status": "ok",
     "timestamp": 1684227044982,
     "user": {
      "displayName": "Mira Metzger",
      "userId": "01779271164224279332"
     },
     "user_tz": -120
    },
    "id": "21e620c7-8f75-40e8-8c20-ab86eeceee2b",
    "outputId": "29a516fe-cbf4-4b3d-e099-efc16e2cbf9b",
    "tags": []
   },
   "outputs": [
    {
     "name": "stdout",
     "output_type": "stream",
     "text": [
      "X train shape:  (8085, 49152)\n",
      "X test shape:  (1491, 49152)\n"
     ]
    }
   ],
   "source": [
    "# reshape the arrays \n",
    "X_train_reshaped = X_train_merged.reshape(X_train_merged.shape[0],-1)\n",
    "X_test_reshaped = X_test.reshape(X_test.shape[0],-1)\n",
    "\n",
    "print(\"X train shape: \", X_train_reshaped.shape)\n",
    "print(\"X test shape: \", X_test_reshaped.shape)"
   ]
  },
  {
   "cell_type": "code",
   "execution_count": null,
   "id": "9813a293-4e05-4d12-b5a4-2e93da2b4fb6",
   "metadata": {
    "id": "9813a293-4e05-4d12-b5a4-2e93da2b4fb6",
    "tags": []
   },
   "outputs": [],
   "source": [
    "# reduce the dimensionality: applying PCA to the dataset while perserving 99% of it's variance\n",
    "pca = PCA(n_components=0.99)"
   ]
  },
  {
   "cell_type": "code",
   "execution_count": null,
   "id": "c5e006df-cde0-4328-b924-4f1e63e4879d",
   "metadata": {
    "colab": {
     "base_uri": "https://localhost:8080/"
    },
    "executionInfo": {
     "elapsed": 443681,
     "status": "ok",
     "timestamp": 1684227490672,
     "user": {
      "displayName": "Mira Metzger",
      "userId": "01779271164224279332"
     },
     "user_tz": -120
    },
    "id": "c5e006df-cde0-4328-b924-4f1e63e4879d",
    "outputId": "c7cab86a-afb1-4574-eb0d-8ccdc20792d8",
    "tags": []
   },
   "outputs": [
    {
     "name": "stdout",
     "output_type": "stream",
     "text": [
      "CPU times: user 22min 46s, sys: 3min 19s, total: 26min 6s\n",
      "Wall time: 7min 23s\n"
     ]
    }
   ],
   "source": [
    "%%time\n",
    "X_train_reduced = pca.fit_transform(X_train_reshaped)\n",
    "X_test_reduced = pca.transform(X_test_reshaped)"
   ]
  },
  {
   "cell_type": "code",
   "execution_count": null,
   "id": "2d13a952-71e8-45dc-a1a3-087bad5883cb",
   "metadata": {
    "colab": {
     "base_uri": "https://localhost:8080/"
    },
    "executionInfo": {
     "elapsed": 12,
     "status": "ok",
     "timestamp": 1684227490672,
     "user": {
      "displayName": "Mira Metzger",
      "userId": "01779271164224279332"
     },
     "user_tz": -120
    },
    "id": "2d13a952-71e8-45dc-a1a3-087bad5883cb",
    "outputId": "8dbfdd54-4990-4322-85d2-3bd076363c37",
    "tags": []
   },
   "outputs": [
    {
     "name": "stdout",
     "output_type": "stream",
     "text": [
      "X train shape: (8085, 462)\n",
      "X test shape: (1491, 49152)\n"
     ]
    }
   ],
   "source": [
    "print(\"X train shape:\", X_train_reduced.shape)\n",
    "print(\"X test shape:\", X_test_reshaped.shape)"
   ]
  },
  {
   "cell_type": "markdown",
   "id": "bd30666c-2597-4bc3-9a72-79784417773f",
   "metadata": {
    "id": "bd30666c-2597-4bc3-9a72-79784417773f",
    "tags": []
   },
   "source": [
    "# Grid search"
   ]
  },
  {
   "cell_type": "code",
   "execution_count": null,
   "id": "d8bf0d2d-317a-4524-bece-8f668839a460",
   "metadata": {
    "id": "d8bf0d2d-317a-4524-bece-8f668839a460",
    "tags": []
   },
   "outputs": [],
   "source": [
    "# subset the training set to perform grid search faster\n",
    "X_train_reshaped_subset = X_train_reduced[:3000, :]\n",
    "y_train_merged_subset = y_train_merged[:3000]"
   ]
  },
  {
   "cell_type": "code",
   "execution_count": null,
   "id": "87cddfd1-4c93-4f7c-bc16-d768ecc76c9c",
   "metadata": {
    "id": "87cddfd1-4c93-4f7c-bc16-d768ecc76c9c",
    "tags": []
   },
   "outputs": [],
   "source": [
    "# Instantiate the SVC model\n",
    "svm_clf = SVC()"
   ]
  },
  {
   "cell_type": "code",
   "execution_count": null,
   "id": "6bffeca3-9d48-4de2-912d-87283e911964",
   "metadata": {
    "id": "6bffeca3-9d48-4de2-912d-87283e911964",
    "tags": []
   },
   "outputs": [],
   "source": [
    "# define the parameter grid\n",
    "param_grid = {'C': [0.1, 1, 10, 100, 1000], # Regularization parameter, controls the margin hardness\n",
    "              'gamma': [1, 0.1, 0.01, 0.001, 0.0001], \n",
    "              'kernel': ['poly','rbf','linear']} # kernel type to be used\n",
    "\n",
    "# performs grid search with cross validation to search the best combination of hyperparameter values\n",
    "grid_svm = GridSearchCV(svm_clf, param_grid, return_train_score=True, n_jobs=-1, cv=3, verbose=10)"
   ]
  },
  {
   "cell_type": "code",
   "execution_count": null,
   "id": "d1093389-0b14-4f0b-8836-bcdc0ba695fd",
   "metadata": {
    "colab": {
     "base_uri": "https://localhost:8080/",
     "height": 171
    },
    "executionInfo": {
     "elapsed": 1045974,
     "status": "ok",
     "timestamp": 1684228536642,
     "user": {
      "displayName": "Mira Metzger",
      "userId": "01779271164224279332"
     },
     "user_tz": -120
    },
    "id": "d1093389-0b14-4f0b-8836-bcdc0ba695fd",
    "outputId": "8335ad7d-70a4-4042-f746-61869aa64e5d",
    "tags": []
   },
   "outputs": [
    {
     "name": "stdout",
     "output_type": "stream",
     "text": [
      "Fitting 3 folds for each of 75 candidates, totalling 225 fits\n",
      "CPU times: user 6.98 s, sys: 772 ms, total: 7.76 s\n",
      "Wall time: 17min 25s\n"
     ]
    },
    {
     "data": {
      "text/html": [
       "<style>#sk-container-id-1 {color: black;background-color: white;}#sk-container-id-1 pre{padding: 0;}#sk-container-id-1 div.sk-toggleable {background-color: white;}#sk-container-id-1 label.sk-toggleable__label {cursor: pointer;display: block;width: 100%;margin-bottom: 0;padding: 0.3em;box-sizing: border-box;text-align: center;}#sk-container-id-1 label.sk-toggleable__label-arrow:before {content: \"▸\";float: left;margin-right: 0.25em;color: #696969;}#sk-container-id-1 label.sk-toggleable__label-arrow:hover:before {color: black;}#sk-container-id-1 div.sk-estimator:hover label.sk-toggleable__label-arrow:before {color: black;}#sk-container-id-1 div.sk-toggleable__content {max-height: 0;max-width: 0;overflow: hidden;text-align: left;background-color: #f0f8ff;}#sk-container-id-1 div.sk-toggleable__content pre {margin: 0.2em;color: black;border-radius: 0.25em;background-color: #f0f8ff;}#sk-container-id-1 input.sk-toggleable__control:checked~div.sk-toggleable__content {max-height: 200px;max-width: 100%;overflow: auto;}#sk-container-id-1 input.sk-toggleable__control:checked~label.sk-toggleable__label-arrow:before {content: \"▾\";}#sk-container-id-1 div.sk-estimator input.sk-toggleable__control:checked~label.sk-toggleable__label {background-color: #d4ebff;}#sk-container-id-1 div.sk-label input.sk-toggleable__control:checked~label.sk-toggleable__label {background-color: #d4ebff;}#sk-container-id-1 input.sk-hidden--visually {border: 0;clip: rect(1px 1px 1px 1px);clip: rect(1px, 1px, 1px, 1px);height: 1px;margin: -1px;overflow: hidden;padding: 0;position: absolute;width: 1px;}#sk-container-id-1 div.sk-estimator {font-family: monospace;background-color: #f0f8ff;border: 1px dotted black;border-radius: 0.25em;box-sizing: border-box;margin-bottom: 0.5em;}#sk-container-id-1 div.sk-estimator:hover {background-color: #d4ebff;}#sk-container-id-1 div.sk-parallel-item::after {content: \"\";width: 100%;border-bottom: 1px solid gray;flex-grow: 1;}#sk-container-id-1 div.sk-label:hover label.sk-toggleable__label {background-color: #d4ebff;}#sk-container-id-1 div.sk-serial::before {content: \"\";position: absolute;border-left: 1px solid gray;box-sizing: border-box;top: 0;bottom: 0;left: 50%;z-index: 0;}#sk-container-id-1 div.sk-serial {display: flex;flex-direction: column;align-items: center;background-color: white;padding-right: 0.2em;padding-left: 0.2em;position: relative;}#sk-container-id-1 div.sk-item {position: relative;z-index: 1;}#sk-container-id-1 div.sk-parallel {display: flex;align-items: stretch;justify-content: center;background-color: white;position: relative;}#sk-container-id-1 div.sk-item::before, #sk-container-id-1 div.sk-parallel-item::before {content: \"\";position: absolute;border-left: 1px solid gray;box-sizing: border-box;top: 0;bottom: 0;left: 50%;z-index: -1;}#sk-container-id-1 div.sk-parallel-item {display: flex;flex-direction: column;z-index: 1;position: relative;background-color: white;}#sk-container-id-1 div.sk-parallel-item:first-child::after {align-self: flex-end;width: 50%;}#sk-container-id-1 div.sk-parallel-item:last-child::after {align-self: flex-start;width: 50%;}#sk-container-id-1 div.sk-parallel-item:only-child::after {width: 0;}#sk-container-id-1 div.sk-dashed-wrapped {border: 1px dashed gray;margin: 0 0.4em 0.5em 0.4em;box-sizing: border-box;padding-bottom: 0.4em;background-color: white;}#sk-container-id-1 div.sk-label label {font-family: monospace;font-weight: bold;display: inline-block;line-height: 1.2em;}#sk-container-id-1 div.sk-label-container {text-align: center;}#sk-container-id-1 div.sk-container {/* jupyter's `normalize.less` sets `[hidden] { display: none; }` but bootstrap.min.css set `[hidden] { display: none !important; }` so we also need the `!important` here to be able to override the default hidden behavior on the sphinx rendered scikit-learn.org. See: https://github.com/scikit-learn/scikit-learn/issues/21755 */display: inline-block !important;position: relative;}#sk-container-id-1 div.sk-text-repr-fallback {display: none;}</style><div id=\"sk-container-id-1\" class=\"sk-top-container\"><div class=\"sk-text-repr-fallback\"><pre>GridSearchCV(cv=3, estimator=SVC(), n_jobs=-1,\n",
       "             param_grid={&#x27;C&#x27;: [0.1, 1, 10, 100, 1000],\n",
       "                         &#x27;gamma&#x27;: [1, 0.1, 0.01, 0.001, 0.0001],\n",
       "                         &#x27;kernel&#x27;: [&#x27;poly&#x27;, &#x27;rbf&#x27;, &#x27;linear&#x27;]},\n",
       "             return_train_score=True, verbose=10)</pre><b>In a Jupyter environment, please rerun this cell to show the HTML representation or trust the notebook. <br />On GitHub, the HTML representation is unable to render, please try loading this page with nbviewer.org.</b></div><div class=\"sk-container\" hidden><div class=\"sk-item sk-dashed-wrapped\"><div class=\"sk-label-container\"><div class=\"sk-label sk-toggleable\"><input class=\"sk-toggleable__control sk-hidden--visually\" id=\"sk-estimator-id-1\" type=\"checkbox\" ><label for=\"sk-estimator-id-1\" class=\"sk-toggleable__label sk-toggleable__label-arrow\">GridSearchCV</label><div class=\"sk-toggleable__content\"><pre>GridSearchCV(cv=3, estimator=SVC(), n_jobs=-1,\n",
       "             param_grid={&#x27;C&#x27;: [0.1, 1, 10, 100, 1000],\n",
       "                         &#x27;gamma&#x27;: [1, 0.1, 0.01, 0.001, 0.0001],\n",
       "                         &#x27;kernel&#x27;: [&#x27;poly&#x27;, &#x27;rbf&#x27;, &#x27;linear&#x27;]},\n",
       "             return_train_score=True, verbose=10)</pre></div></div></div><div class=\"sk-parallel\"><div class=\"sk-parallel-item\"><div class=\"sk-item\"><div class=\"sk-label-container\"><div class=\"sk-label sk-toggleable\"><input class=\"sk-toggleable__control sk-hidden--visually\" id=\"sk-estimator-id-2\" type=\"checkbox\" ><label for=\"sk-estimator-id-2\" class=\"sk-toggleable__label sk-toggleable__label-arrow\">estimator: SVC</label><div class=\"sk-toggleable__content\"><pre>SVC()</pre></div></div></div><div class=\"sk-serial\"><div class=\"sk-item\"><div class=\"sk-estimator sk-toggleable\"><input class=\"sk-toggleable__control sk-hidden--visually\" id=\"sk-estimator-id-3\" type=\"checkbox\" ><label for=\"sk-estimator-id-3\" class=\"sk-toggleable__label sk-toggleable__label-arrow\">SVC</label><div class=\"sk-toggleable__content\"><pre>SVC()</pre></div></div></div></div></div></div></div></div></div></div>"
      ],
      "text/plain": [
       "GridSearchCV(cv=3, estimator=SVC(), n_jobs=-1,\n",
       "             param_grid={'C': [0.1, 1, 10, 100, 1000],\n",
       "                         'gamma': [1, 0.1, 0.01, 0.001, 0.0001],\n",
       "                         'kernel': ['poly', 'rbf', 'linear']},\n",
       "             return_train_score=True, verbose=10)"
      ]
     },
     "execution_count": 13,
     "metadata": {},
     "output_type": "execute_result"
    }
   ],
   "source": [
    "%%time\n",
    "grid_svm.fit(X_train_reshaped_subset, y_train_merged_subset)"
   ]
  },
  {
   "cell_type": "code",
   "execution_count": null,
   "id": "1ed41808-3278-4696-8a26-7a8419674b75",
   "metadata": {
    "colab": {
     "base_uri": "https://localhost:8080/"
    },
    "executionInfo": {
     "elapsed": 13,
     "status": "ok",
     "timestamp": 1684228536643,
     "user": {
      "displayName": "Mira Metzger",
      "userId": "01779271164224279332"
     },
     "user_tz": -120
    },
    "id": "1ed41808-3278-4696-8a26-7a8419674b75",
    "outputId": "65f54ff0-37fe-48cc-fa89-bd5cae572dea",
    "tags": []
   },
   "outputs": [
    {
     "name": "stdout",
     "output_type": "stream",
     "text": [
      "Best parameters: {'C': 100, 'gamma': 0.0001, 'kernel': 'rbf'}\n",
      "Best score: 0.9163333333333333\n"
     ]
    }
   ],
   "source": [
    "# best estimator\n",
    "print(\"Best parameters:\", grid_svm.best_params_)\n",
    "print(\"Best score:\", grid_svm.best_score_)\n",
    "\n",
    "# save the best estimator as the model\n",
    "model_svc = grid_svm.best_estimator_"
   ]
  },
  {
   "cell_type": "markdown",
   "id": "855ffe7c-6f3f-452c-8e28-cbf99622995e",
   "metadata": {
    "id": "855ffe7c-6f3f-452c-8e28-cbf99622995e",
    "tags": []
   },
   "source": [
    "# Randomized Grid search"
   ]
  },
  {
   "cell_type": "code",
   "execution_count": null,
   "id": "dc8fadcc-daa7-4ef1-ac91-503610a674ff",
   "metadata": {
    "id": "dc8fadcc-daa7-4ef1-ac91-503610a674ff",
    "tags": []
   },
   "outputs": [],
   "source": [
    "# Instantiate the SVC model\n",
    "svm_clf = SVC()\n",
    "\n",
    "param_grid = {'C': [0.1, 1, 10, 100, 1000], # Regularization parameter, controls the margin hardness\n",
    "              'gamma': [1, 0.1, 0.01, 0.001, 0.0001], #stats.expon(scale=.01), \n",
    "              'kernel': ['poly','rbf','linear']} # kernel type to be used\n",
    "\n",
    "grid_svm_rand = RandomizedSearchCV(svm_clf, param_grid, verbose=10, cv=5, n_iter=10, n_jobs=-1, random_state=42)"
   ]
  },
  {
   "cell_type": "code",
   "execution_count": null,
   "id": "0b56fa87-0760-43e7-ace1-c882530a1f0d",
   "metadata": {
    "colab": {
     "base_uri": "https://localhost:8080/",
     "height": 171
    },
    "executionInfo": {
     "elapsed": 243305,
     "status": "ok",
     "timestamp": 1684228779939,
     "user": {
      "displayName": "Mira Metzger",
      "userId": "01779271164224279332"
     },
     "user_tz": -120
    },
    "id": "0b56fa87-0760-43e7-ace1-c882530a1f0d",
    "outputId": "042bc454-a94e-468f-a66a-2c5f12a01a30",
    "tags": []
   },
   "outputs": [
    {
     "name": "stdout",
     "output_type": "stream",
     "text": [
      "Fitting 5 folds for each of 10 candidates, totalling 50 fits\n",
      "CPU times: user 2.63 s, sys: 195 ms, total: 2.83 s\n",
      "Wall time: 4min 3s\n"
     ]
    },
    {
     "data": {
      "text/html": [
       "<style>#sk-container-id-2 {color: black;background-color: white;}#sk-container-id-2 pre{padding: 0;}#sk-container-id-2 div.sk-toggleable {background-color: white;}#sk-container-id-2 label.sk-toggleable__label {cursor: pointer;display: block;width: 100%;margin-bottom: 0;padding: 0.3em;box-sizing: border-box;text-align: center;}#sk-container-id-2 label.sk-toggleable__label-arrow:before {content: \"▸\";float: left;margin-right: 0.25em;color: #696969;}#sk-container-id-2 label.sk-toggleable__label-arrow:hover:before {color: black;}#sk-container-id-2 div.sk-estimator:hover label.sk-toggleable__label-arrow:before {color: black;}#sk-container-id-2 div.sk-toggleable__content {max-height: 0;max-width: 0;overflow: hidden;text-align: left;background-color: #f0f8ff;}#sk-container-id-2 div.sk-toggleable__content pre {margin: 0.2em;color: black;border-radius: 0.25em;background-color: #f0f8ff;}#sk-container-id-2 input.sk-toggleable__control:checked~div.sk-toggleable__content {max-height: 200px;max-width: 100%;overflow: auto;}#sk-container-id-2 input.sk-toggleable__control:checked~label.sk-toggleable__label-arrow:before {content: \"▾\";}#sk-container-id-2 div.sk-estimator input.sk-toggleable__control:checked~label.sk-toggleable__label {background-color: #d4ebff;}#sk-container-id-2 div.sk-label input.sk-toggleable__control:checked~label.sk-toggleable__label {background-color: #d4ebff;}#sk-container-id-2 input.sk-hidden--visually {border: 0;clip: rect(1px 1px 1px 1px);clip: rect(1px, 1px, 1px, 1px);height: 1px;margin: -1px;overflow: hidden;padding: 0;position: absolute;width: 1px;}#sk-container-id-2 div.sk-estimator {font-family: monospace;background-color: #f0f8ff;border: 1px dotted black;border-radius: 0.25em;box-sizing: border-box;margin-bottom: 0.5em;}#sk-container-id-2 div.sk-estimator:hover {background-color: #d4ebff;}#sk-container-id-2 div.sk-parallel-item::after {content: \"\";width: 100%;border-bottom: 1px solid gray;flex-grow: 1;}#sk-container-id-2 div.sk-label:hover label.sk-toggleable__label {background-color: #d4ebff;}#sk-container-id-2 div.sk-serial::before {content: \"\";position: absolute;border-left: 1px solid gray;box-sizing: border-box;top: 0;bottom: 0;left: 50%;z-index: 0;}#sk-container-id-2 div.sk-serial {display: flex;flex-direction: column;align-items: center;background-color: white;padding-right: 0.2em;padding-left: 0.2em;position: relative;}#sk-container-id-2 div.sk-item {position: relative;z-index: 1;}#sk-container-id-2 div.sk-parallel {display: flex;align-items: stretch;justify-content: center;background-color: white;position: relative;}#sk-container-id-2 div.sk-item::before, #sk-container-id-2 div.sk-parallel-item::before {content: \"\";position: absolute;border-left: 1px solid gray;box-sizing: border-box;top: 0;bottom: 0;left: 50%;z-index: -1;}#sk-container-id-2 div.sk-parallel-item {display: flex;flex-direction: column;z-index: 1;position: relative;background-color: white;}#sk-container-id-2 div.sk-parallel-item:first-child::after {align-self: flex-end;width: 50%;}#sk-container-id-2 div.sk-parallel-item:last-child::after {align-self: flex-start;width: 50%;}#sk-container-id-2 div.sk-parallel-item:only-child::after {width: 0;}#sk-container-id-2 div.sk-dashed-wrapped {border: 1px dashed gray;margin: 0 0.4em 0.5em 0.4em;box-sizing: border-box;padding-bottom: 0.4em;background-color: white;}#sk-container-id-2 div.sk-label label {font-family: monospace;font-weight: bold;display: inline-block;line-height: 1.2em;}#sk-container-id-2 div.sk-label-container {text-align: center;}#sk-container-id-2 div.sk-container {/* jupyter's `normalize.less` sets `[hidden] { display: none; }` but bootstrap.min.css set `[hidden] { display: none !important; }` so we also need the `!important` here to be able to override the default hidden behavior on the sphinx rendered scikit-learn.org. See: https://github.com/scikit-learn/scikit-learn/issues/21755 */display: inline-block !important;position: relative;}#sk-container-id-2 div.sk-text-repr-fallback {display: none;}</style><div id=\"sk-container-id-2\" class=\"sk-top-container\"><div class=\"sk-text-repr-fallback\"><pre>RandomizedSearchCV(cv=5, estimator=SVC(), n_jobs=-1,\n",
       "                   param_distributions={&#x27;C&#x27;: [0.1, 1, 10, 100, 1000],\n",
       "                                        &#x27;gamma&#x27;: [1, 0.1, 0.01, 0.001, 0.0001],\n",
       "                                        &#x27;kernel&#x27;: [&#x27;poly&#x27;, &#x27;rbf&#x27;, &#x27;linear&#x27;]},\n",
       "                   random_state=42, verbose=10)</pre><b>In a Jupyter environment, please rerun this cell to show the HTML representation or trust the notebook. <br />On GitHub, the HTML representation is unable to render, please try loading this page with nbviewer.org.</b></div><div class=\"sk-container\" hidden><div class=\"sk-item sk-dashed-wrapped\"><div class=\"sk-label-container\"><div class=\"sk-label sk-toggleable\"><input class=\"sk-toggleable__control sk-hidden--visually\" id=\"sk-estimator-id-4\" type=\"checkbox\" ><label for=\"sk-estimator-id-4\" class=\"sk-toggleable__label sk-toggleable__label-arrow\">RandomizedSearchCV</label><div class=\"sk-toggleable__content\"><pre>RandomizedSearchCV(cv=5, estimator=SVC(), n_jobs=-1,\n",
       "                   param_distributions={&#x27;C&#x27;: [0.1, 1, 10, 100, 1000],\n",
       "                                        &#x27;gamma&#x27;: [1, 0.1, 0.01, 0.001, 0.0001],\n",
       "                                        &#x27;kernel&#x27;: [&#x27;poly&#x27;, &#x27;rbf&#x27;, &#x27;linear&#x27;]},\n",
       "                   random_state=42, verbose=10)</pre></div></div></div><div class=\"sk-parallel\"><div class=\"sk-parallel-item\"><div class=\"sk-item\"><div class=\"sk-label-container\"><div class=\"sk-label sk-toggleable\"><input class=\"sk-toggleable__control sk-hidden--visually\" id=\"sk-estimator-id-5\" type=\"checkbox\" ><label for=\"sk-estimator-id-5\" class=\"sk-toggleable__label sk-toggleable__label-arrow\">estimator: SVC</label><div class=\"sk-toggleable__content\"><pre>SVC()</pre></div></div></div><div class=\"sk-serial\"><div class=\"sk-item\"><div class=\"sk-estimator sk-toggleable\"><input class=\"sk-toggleable__control sk-hidden--visually\" id=\"sk-estimator-id-6\" type=\"checkbox\" ><label for=\"sk-estimator-id-6\" class=\"sk-toggleable__label sk-toggleable__label-arrow\">SVC</label><div class=\"sk-toggleable__content\"><pre>SVC()</pre></div></div></div></div></div></div></div></div></div></div>"
      ],
      "text/plain": [
       "RandomizedSearchCV(cv=5, estimator=SVC(), n_jobs=-1,\n",
       "                   param_distributions={'C': [0.1, 1, 10, 100, 1000],\n",
       "                                        'gamma': [1, 0.1, 0.01, 0.001, 0.0001],\n",
       "                                        'kernel': ['poly', 'rbf', 'linear']},\n",
       "                   random_state=42, verbose=10)"
      ]
     },
     "execution_count": 16,
     "metadata": {},
     "output_type": "execute_result"
    }
   ],
   "source": [
    "%%time\n",
    "grid_svm_rand.fit(X_train_reshaped_subset, y_train_merged_subset)"
   ]
  },
  {
   "cell_type": "code",
   "execution_count": null,
   "id": "b566c84b-d54a-458f-833f-8fb0d5bcd9c0",
   "metadata": {
    "colab": {
     "base_uri": "https://localhost:8080/"
    },
    "executionInfo": {
     "elapsed": 12,
     "status": "ok",
     "timestamp": 1684228779940,
     "user": {
      "displayName": "Mira Metzger",
      "userId": "01779271164224279332"
     },
     "user_tz": -120
    },
    "id": "b566c84b-d54a-458f-833f-8fb0d5bcd9c0",
    "outputId": "6da0d92e-7b98-4051-a0a1-93c8f3c4eeb9",
    "tags": []
   },
   "outputs": [
    {
     "name": "stdout",
     "output_type": "stream",
     "text": [
      "Best parameters: {'kernel': 'rbf', 'gamma': 0.0001, 'C': 1}\n",
      "Best score: 0.8563333333333333\n"
     ]
    }
   ],
   "source": [
    "# best estimator\n",
    "print(\"Best parameters:\", grid_svm_rand.best_params_)\n",
    "print(\"Best score:\", grid_svm_rand.best_score_)\n",
    "\n",
    "# save the best estimator as the model\n",
    "#model_svc = grid_svm_rand.best_estimator_"
   ]
  },
  {
   "cell_type": "markdown",
   "id": "3ac99da5-8a7d-4393-9eb0-eb9498bd5604",
   "metadata": {
    "id": "3ac99da5-8a7d-4393-9eb0-eb9498bd5604",
    "tags": []
   },
   "source": [
    "# Predict and Evaluate"
   ]
  },
  {
   "cell_type": "markdown",
   "id": "3be4742e-0be5-4f52-9b69-196423d09f6f",
   "metadata": {
    "id": "3be4742e-0be5-4f52-9b69-196423d09f6f"
   },
   "source": [
    "## SVM without augmentation"
   ]
  },
  {
   "cell_type": "code",
   "execution_count": null,
   "id": "162e4442-1ef6-4fef-ab5a-9810ab003473",
   "metadata": {
    "id": "162e4442-1ef6-4fef-ab5a-9810ab003473",
    "tags": []
   },
   "outputs": [],
   "source": [
    "# Run this cell to not do grid search again\n",
    "#model_svc = SVC(C=100, gamma=0.0001, kernel='rbf')\n",
    "#model_svc.fit(X_train_reduced, y_train_merged)"
   ]
  },
  {
   "cell_type": "code",
   "execution_count": 1,
   "id": "e504d8f1",
   "metadata": {},
   "outputs": [
    {
     "name": "stderr",
     "output_type": "stream",
     "text": [
      "/Users/MiraMetzger/.pyenv/versions/3.8.12/envs/lewagon/lib/python3.8/site-packages/sklearn/base.py:313: UserWarning: Trying to unpickle estimator SVC from version 1.2.2 when using version 0.22. This might lead to breaking code or invalid results. Use at your own risk.\n",
      "  warnings.warn(\n"
     ]
    }
   ],
   "source": [
    "### run this cell to load the model###\n",
    "import pickle\n",
    "\n",
    "filename = \"Models/SVM_model.pickle\"\n",
    "\n",
    "# load model\n",
    "model_svc = pickle.load(open(filename, \"rb\"))"
   ]
  },
  {
   "cell_type": "code",
   "execution_count": null,
   "id": "27f08f41-ad54-4a1c-83bc-12087e639384",
   "metadata": {
    "id": "27f08f41-ad54-4a1c-83bc-12087e639384",
    "tags": []
   },
   "outputs": [],
   "source": [
    "y_pred = model_svc.predict(X_test_reduced)"
   ]
  },
  {
   "cell_type": "code",
   "execution_count": null,
   "id": "35d71606-1f8e-4b9c-90c0-f3d4d210e634",
   "metadata": {
    "colab": {
     "base_uri": "https://localhost:8080/"
    },
    "executionInfo": {
     "elapsed": 6,
     "status": "ok",
     "timestamp": 1684228885928,
     "user": {
      "displayName": "Mira Metzger",
      "userId": "01779271164224279332"
     },
     "user_tz": -120
    },
    "id": "35d71606-1f8e-4b9c-90c0-f3d4d210e634",
    "outputId": "17b71d49-92f2-4be0-a245-013dcbc066a8",
    "tags": []
   },
   "outputs": [
    {
     "name": "stdout",
     "output_type": "stream",
     "text": [
      "[[428  63]\n",
      " [ 46 954]]\n",
      "Accuracy (simple): 0.9268947015425889\n",
      "Accuracy (extended):\n",
      "              precision    recall  f1-score   support\n",
      "\n",
      "           0       0.90      0.87      0.89       491\n",
      "           1       0.94      0.95      0.95      1000\n",
      "\n",
      "    accuracy                           0.93      1491\n",
      "   macro avg       0.92      0.91      0.92      1491\n",
      "weighted avg       0.93      0.93      0.93      1491\n",
      "\n"
     ]
    }
   ],
   "source": [
    "# Access the associated confusion matrix\n",
    "print(confusion_matrix(y_test, y_pred))\n",
    "\n",
    "# Print performance measures  \n",
    "print('Accuracy (simple):', accuracy_score(y_test, y_pred))\n",
    "measures_info = classification_report(y_test, y_pred)\n",
    "print('Accuracy (extended):\\n' + measures_info)"
   ]
  },
  {
   "cell_type": "markdown",
   "id": "8165cc1e-2dd7-42ca-bf22-bd4768fd5f04",
   "metadata": {
    "id": "8165cc1e-2dd7-42ca-bf22-bd4768fd5f04"
   },
   "source": [
    "### ROC Curve (Train)"
   ]
  },
  {
   "cell_type": "code",
   "execution_count": null,
   "id": "hum0OeJq4xyj",
   "metadata": {
    "colab": {
     "base_uri": "https://localhost:8080/",
     "height": 564
    },
    "executionInfo": {
     "elapsed": 40276,
     "status": "ok",
     "timestamp": 1684229690849,
     "user": {
      "displayName": "Mira Metzger",
      "userId": "01779271164224279332"
     },
     "user_tz": -120
    },
    "id": "hum0OeJq4xyj",
    "outputId": "55090a8b-f089-45e4-e0dc-b288a5351ae8"
   },
   "outputs": [
    {
     "data": {
      "image/png": "[encoded data removed]",
      "text/plain": [
       "<Figure size 600x600 with 1 Axes>"
      ]
     },
     "metadata": {},
     "output_type": "display_data"
    }
   ],
   "source": [
    "import matplotlib.pyplot as plt\n",
    "\n",
    "from sklearn import svm\n",
    "from sklearn.metrics import auc\n",
    "from sklearn.metrics import RocCurveDisplay\n",
    "from sklearn.model_selection import StratifiedKFold\n",
    "\n",
    "cv = StratifiedKFold(n_splits=6)\n",
    "\n",
    "tprs = []\n",
    "aucs = []\n",
    "mean_fpr = np.linspace(0, 1, 100)\n",
    "\n",
    "fig, ax = plt.subplots(figsize=(6, 6))\n",
    "for fold, (train, test) in enumerate(cv.split(X_train_reduced, y_train_merged)):\n",
    "    model_svc.fit(X_train_reduced[train], y_train_merged[train])\n",
    "    viz = RocCurveDisplay.from_estimator(\n",
    "        model_svc,\n",
    "        X_train_reduced[test],\n",
    "        y_train_merged[test],\n",
    "        name=f\"ROC fold {fold}\",\n",
    "        alpha=0.3,\n",
    "        lw=1,\n",
    "        ax=ax,\n",
    "    )\n",
    "    interp_tpr = np.interp(mean_fpr, viz.fpr, viz.tpr)\n",
    "    interp_tpr[0] = 0.0\n",
    "    tprs.append(interp_tpr)\n",
    "    aucs.append(viz.roc_auc)\n",
    "ax.plot([0, 1], [0, 1], \"k--\", label=\"chance level (AUC = 0.5)\")\n",
    "\n",
    "mean_tpr = np.mean(tprs, axis=0)\n",
    "mean_tpr[-1] = 1.0\n",
    "mean_auc = auc(mean_fpr, mean_tpr)\n",
    "std_auc = np.std(aucs)\n",
    "ax.plot(\n",
    "    mean_fpr,\n",
    "    mean_tpr,\n",
    "    color=\"b\",\n",
    "    label=r\"Mean ROC (AUC = %0.2f $\\pm$ %0.2f)\" % (mean_auc, std_auc),\n",
    "    lw=2,\n",
    "    alpha=0.8,\n",
    ")\n",
    "\n",
    "std_tpr = np.std(tprs, axis=0)\n",
    "tprs_upper = np.minimum(mean_tpr + std_tpr, 1)\n",
    "tprs_lower = np.maximum(mean_tpr - std_tpr, 0)\n",
    "ax.fill_between(\n",
    "    mean_fpr,\n",
    "    tprs_lower,\n",
    "    tprs_upper,\n",
    "    color=\"grey\",\n",
    "    alpha=0.2,\n",
    "    label=r\"$\\pm$ 1 std. dev.\",\n",
    ")\n",
    "\n",
    "ax.set(\n",
    "    xlim=[-0.05, 1.05],\n",
    "    ylim=[-0.05, 1.05],\n",
    "    xlabel=\"False Positive Rate\",\n",
    "    ylabel=\"True Positive Rate\",\n",
    "    title=f\"Mean ROC curve with variability\",\n",
    ")\n",
    "ax.axis(\"square\")\n",
    "ax.legend(loc=\"lower right\")\n",
    "plt.show()"
   ]
  },
  {
   "cell_type": "code",
   "execution_count": null,
   "id": "f8cda5a2-7463-42e0-acf5-328a901ae870",
   "metadata": {
    "colab": {
     "base_uri": "https://localhost:8080/",
     "height": 490
    },
    "executionInfo": {
     "elapsed": 16056,
     "status": "ok",
     "timestamp": 1684231096734,
     "user": {
      "displayName": "Mira Metzger",
      "userId": "01779271164224279332"
     },
     "user_tz": -120
    },
    "id": "f8cda5a2-7463-42e0-acf5-328a901ae870",
    "outputId": "539a1995-910e-4f5b-9d3c-9dc1da62724c",
    "tags": []
   },
   "outputs": [
    {
     "name": "stdout",
     "output_type": "stream",
     "text": [
      "AUC: 0.9876457772337821\n"
     ]
    },
    {
     "data": {
      "image/png": "[encoded data removed]",
      "text/plain": [
       "<Figure size 640x480 with 1 Axes>"
      ]
     },
     "metadata": {},
     "output_type": "display_data"
    }
   ],
   "source": [
    "from sklearn.model_selection import cross_val_predict\n",
    "\n",
    "y_score = cross_val_predict(model_svc, X_train_reduced, y_train_merged, cv=3, method=\"decision_function\")\n",
    "\n",
    "fpr, tpr, thresholds = roc_curve(y_train_merged, y_score)\n",
    "print('AUC:', (roc_auc_score(y_train_merged, y_score)))\n",
    "\n",
    "# plot the roc curve\n",
    "def plot_roc(fpr, tpr):\n",
    "    plt.plot(fpr, tpr, linewidth=2)\n",
    "    plt.plot([0, 1], [0, 1], 'k--') # add the diagonal line\n",
    "    plt.title(\"ROC Curve\")\n",
    "    plt.xlabel('False Positive Rate')\n",
    "    plt.ylabel('True Positive Rate')\n",
    "\n",
    "plot_roc(fpr, tpr)\n",
    "plt.show()"
   ]
  },
  {
   "cell_type": "markdown",
   "id": "dJfqUV2X8oMb",
   "metadata": {
    "id": "dJfqUV2X8oMb"
   },
   "source": [
    "## ROC Curve (Test)"
   ]
  },
  {
   "cell_type": "code",
   "execution_count": null,
   "id": "v86lcoMI8vDZ",
   "metadata": {
    "colab": {
     "base_uri": "https://localhost:8080/",
     "height": 490
    },
    "executionInfo": {
     "elapsed": 2248,
     "status": "ok",
     "timestamp": 1684231011794,
     "user": {
      "displayName": "Mira Metzger",
      "userId": "01779271164224279332"
     },
     "user_tz": -120
    },
    "id": "v86lcoMI8vDZ",
    "outputId": "4f410c1c-db18-4dd3-935b-4cbc79d3af3c"
   },
   "outputs": [
    {
     "name": "stdout",
     "output_type": "stream",
     "text": [
      "AUC: 0.9773523421588595\n"
     ]
    },
    {
     "data": {
      "image/png": "[encoded data removed]",
      "text/plain": [
       "<Figure size 640x480 with 1 Axes>"
      ]
     },
     "metadata": {},
     "output_type": "display_data"
    }
   ],
   "source": [
    "from sklearn.metrics import roc_auc_score\n",
    "\n",
    "decision_scores = model_svc.decision_function(X_test_reduced)\n",
    "\n",
    "fpr, tpr, thresholds = roc_curve(y_test, decision_scores)\n",
    "print('AUC:', (roc_auc_score(y_test, decision_scores)))\n",
    "\n",
    "plot_roc(fpr, tpr)\n",
    "plt.show()"
   ]
  },
  {
   "cell_type": "markdown",
   "id": "wuHdydua8yhc",
   "metadata": {
    "id": "wuHdydua8yhc"
   },
   "source": [
    "## Save the model"
   ]
  },
  {
   "cell_type": "code",
   "execution_count": null,
   "id": "URG6ikI53lwb",
   "metadata": {
    "id": "URG6ikI53lwb"
   },
   "outputs": [],
   "source": [
    "### uncomment and run this code to save the model###\n",
    "#filename = \"Models/SVM_model.pickle\"\n",
    "#pickle.dump(model_svc, open(filename, \"wb\"))"
   ]
  },
  {
   "cell_type": "markdown",
   "id": "20e0a2f8-b8d9-417b-ae6c-d479b81679d5",
   "metadata": {
    "id": "20e0a2f8-b8d9-417b-ae6c-d479b81679d5",
    "tags": []
   },
   "source": [
    "# Further Model Experiments"
   ]
  },
  {
   "cell_type": "markdown",
   "id": "1733fc18-7e1b-476b-bf8c-4b70bd213a99",
   "metadata": {
    "id": "1733fc18-7e1b-476b-bf8c-4b70bd213a99",
    "tags": []
   },
   "source": [
    "## Random Forest"
   ]
  },
  {
   "cell_type": "code",
   "execution_count": null,
   "id": "f090366a-b27e-469b-9ca6-ab4590436334",
   "metadata": {
    "id": "f090366a-b27e-469b-9ca6-ab4590436334",
    "tags": []
   },
   "outputs": [],
   "source": [
    "from sklearn.ensemble import RandomForestClassifier\n",
    "\n",
    "rnd_clf = RandomForestClassifier()\n",
    "\n",
    "param_grid = {'bootstrap': [True, False],\n",
    "              'max_depth': [10, 20, 30, 40, 50, 60, 70, 80, 90, 100, None],\n",
    "              'min_samples_leaf': [1, 2, 4],\n",
    "              'min_samples_split': [2, 5, 10],\n",
    "              'n_estimators': [200, 400, 600, 800, 1000, 1200, 1400, 1600, 1800, 2000]}\n",
    "\n",
    "param_grid = { \n",
    "    'n_estimators': [600, 800, 1000],\n",
    "    'max_features': ['auto'],\n",
    "    'max_depth' : [40, 50, 60, 70, 80],\n",
    "    'criterion' :['entropy']\n",
    "}\n",
    "\n",
    "# defining parameter range\n",
    "grid_rnd = GridSearchCV(rnd_clf, param_grid, cv=5, scoring='accuracy', return_train_score=False,verbose=10, n_jobs = -1)\n",
    "  \n",
    "# fitting the model for grid search\n",
    "grid_rnd.fit(X_train_reshaped_small, y_train_merged)"
   ]
  },
  {
   "cell_type": "code",
   "execution_count": null,
   "id": "49947ace-1de3-425b-9177-1f92339f84af",
   "metadata": {
    "id": "49947ace-1de3-425b-9177-1f92339f84af",
    "tags": []
   },
   "outputs": [],
   "source": [
    "# best estimator\n",
    "print(\"Best parameters:\", grid_rnd.best_params_)\n",
    "print(\"Best score:\", grid_rnd.best_score_)\n",
    "\n",
    "# save the best estimator as the model\n",
    "model_svc = grid_rnd.best_estimator_"
   ]
  },
  {
   "cell_type": "code",
   "execution_count": null,
   "id": "3300b735-4069-41af-aa3b-5a940eb70121",
   "metadata": {
    "id": "3300b735-4069-41af-aa3b-5a940eb70121"
   },
   "outputs": [],
   "source": []
  }
 ],
 "metadata": {
  "colab": {
   "collapsed_sections": [
    "82628fc7-4feb-4e4f-ba2c-7d223c2a64cc",
    "20e0a2f8-b8d9-417b-ae6c-d479b81679d5",
    "1733fc18-7e1b-476b-bf8c-4b70bd213a99"
   ],
   "machine_shape": "hm",
   "provenance": []
  },
  "gpuClass": "standard",
  "kernelspec": {
   "display_name": "Python 3 (ipykernel)",
   "language": "python",
   "name": "python3"
  },
  "language_info": {
   "codemirror_mode": {
    "name": "ipython",
    "version": 3
   },
   "file_extension": ".py",
   "mimetype": "text/x-python",
   "name": "python",
   "nbconvert_exporter": "python",
   "pygments_lexer": "ipython3",
   "version": "3.8.12"
  },
  "toc": {
   "base_numbering": 1,
   "nav_menu": {},
   "number_sections": true,
   "sideBar": true,
   "skip_h1_title": false,
   "title_cell": "Table of Contents",
   "title_sidebar": "Contents",
   "toc_cell": false,
   "toc_position": {},
   "toc_section_display": true,
   "toc_window_display": false
  }
 },
 "nbformat": 4,
 "nbformat_minor": 5
}
