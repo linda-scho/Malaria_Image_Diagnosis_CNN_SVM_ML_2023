{
 "cells": [
  {
   "cell_type": "code",
   "execution_count": 65,
   "id": "b1f484a0-b5c3-4097-9c00-03c1a5b9b9e2",
   "metadata": {
    "tags": []
   },
   "outputs": [],
   "source": [
    "#read in relevant packages\n",
    "import pandas as pd\n",
    "from PIL import Image\n",
    "import os\n",
    "from tqdm import tqdm\n",
    "import json\n",
    "import shutil\n",
    "import random"
   ]
  },
  {
   "cell_type": "code",
   "execution_count": 23,
   "id": "ff2b346f-dc34-4f8f-87a1-7df1d8aa5e4a",
   "metadata": {
    "tags": []
   },
   "outputs": [
    {
     "name": "stdout",
     "output_type": "stream",
     "text": [
      "                     image/checksum  \\\n",
      "0  676bb8e86fc2dbf05dd97d51a64ac0af   \n",
      "1  1225a18efce159eddf7b0e80e0ea642c   \n",
      "2  3eaf840523c30fdf38897ffa01e194eb   \n",
      "3  8a111dffacfa433029492780b9535091   \n",
      "4  ccef403e971460b86444cca669e68ca1   \n",
      "\n",
      "                                     image/pathname  image/shape/r  \\\n",
      "0  /images/8d02117d-6c71-4e47-b50a-6cc8d5eb1d55.png           1200   \n",
      "1  /images/10be6380-cbbb-4886-8b9e-ff56b1710576.png           1200   \n",
      "2  /images/6b14c855-8561-417c-97a4-63fa552842fd.png           1200   \n",
      "3  /images/13099edb-35d9-438f-b093-2cf2ebf9d255.png           1200   \n",
      "4  /images/2559636b-f01a-4414-93da-210c3b12d153.png           1200   \n",
      "\n",
      "   image/shape/c  image/shape/channels  objects/0/bounding_box/minimum/r  \\\n",
      "0           1600                     3                              1057   \n",
      "1           1600                     3                               734   \n",
      "2           1600                     3                               724   \n",
      "3           1600                     3                               563   \n",
      "4           1600                     3                               618   \n",
      "\n",
      "   objects/0/bounding_box/minimum/c  objects/0/bounding_box/maximum/r  \\\n",
      "0                              1440                              1158   \n",
      "1                               735                               832   \n",
      "2                              1027                               834   \n",
      "3                              1421                               656   \n",
      "4                               688                               744   \n",
      "\n",
      "   objects/0/bounding_box/maximum/c objects/0/category  ...  \\\n",
      "0                              1540     red blood cell  ...   \n",
      "1                               834     red blood cell  ...   \n",
      "2                              1136     red blood cell  ...   \n",
      "3                              1545     red blood cell  ...   \n",
      "4                               810     red blood cell  ...   \n",
      "\n",
      "   objects/221/bounding_box/minimum/r  objects/221/bounding_box/minimum/c  \\\n",
      "0                                 NaN                                 NaN   \n",
      "1                                 NaN                                 NaN   \n",
      "2                                 NaN                                 NaN   \n",
      "3                                 NaN                                 NaN   \n",
      "4                                 NaN                                 NaN   \n",
      "\n",
      "   objects/221/bounding_box/maximum/r  objects/221/bounding_box/maximum/c  \\\n",
      "0                                 NaN                                 NaN   \n",
      "1                                 NaN                                 NaN   \n",
      "2                                 NaN                                 NaN   \n",
      "3                                 NaN                                 NaN   \n",
      "4                                 NaN                                 NaN   \n",
      "\n",
      "  objects/221/category  objects/222/bounding_box/minimum/r  \\\n",
      "0                  NaN                                 NaN   \n",
      "1                  NaN                                 NaN   \n",
      "2                  NaN                                 NaN   \n",
      "3                  NaN                                 NaN   \n",
      "4                  NaN                                 NaN   \n",
      "\n",
      "   objects/222/bounding_box/minimum/c  objects/222/bounding_box/maximum/r  \\\n",
      "0                                 NaN                                 NaN   \n",
      "1                                 NaN                                 NaN   \n",
      "2                                 NaN                                 NaN   \n",
      "3                                 NaN                                 NaN   \n",
      "4                                 NaN                                 NaN   \n",
      "\n",
      "   objects/222/bounding_box/maximum/c objects/222/category  \n",
      "0                                 NaN                  NaN  \n",
      "1                                 NaN                  NaN  \n",
      "2                                 NaN                  NaN  \n",
      "3                                 NaN                  NaN  \n",
      "4                                 NaN                  NaN  \n",
      "\n",
      "[5 rows x 1120 columns]\n"
     ]
    },
    {
     "name": "stderr",
     "output_type": "stream",
     "text": [
      "/var/folders/qy/7nyf91_x2x519nzr1wfnckz00000gn/T/ipykernel_62784/3582358598.py:2: DtypeWarning: Columns (854,859,864,869,874,879,884,889,894,899,904,909,914,919,924,929,934,939,944,949,954,959,964,969,974,979,984,989,994,999,1004,1009,1014,1019,1024,1029,1034,1039,1044,1049,1054,1059,1064,1069,1074,1079,1084,1089,1094,1099,1104,1109,1114,1119) have mixed types. Specify dtype option on import or set low_memory=False.\n",
      "  train_df = pd.read_csv(\"malaria/training.csv\")\n"
     ]
    }
   ],
   "source": [
    "# Read in the training.csv file\n",
    "train_df = pd.read_csv(\"malaria/training.csv\")\n",
    "\n",
    "# Read in the test.csv file\n",
    "test_df = pd.read_csv(\"malaria/test.csv\")\n",
    "\n",
    "print(train_df.head())"
   ]
  },
  {
   "cell_type": "code",
   "execution_count": 2,
   "id": "9b273662-2d9b-4088-937c-611c8c1ac72a",
   "metadata": {
    "tags": []
   },
   "outputs": [],
   "source": [
    "# Load the JSON data into a dictionary\n",
    "with open('malaria/training.json') as f:\n",
    "    data = json.load(f)\n",
    "\n",
    "# Create an empty list to hold the data\n",
    "rows = []\n",
    "\n",
    "# Iterate through each image object in the JSON data\n",
    "for img_obj in data:\n",
    "    img_path = img_obj['image']['pathname']\n",
    "    img_shape = img_obj['image']['shape']\n",
    "    \n",
    "    # Iterate through each object in the current image\n",
    "    for obj in img_obj['objects']:\n",
    "        bb = obj['bounding_box']\n",
    "        rows.append({\n",
    "            'path': img_path,\n",
    "            'min_r': bb['minimum']['r'],\n",
    "            'min_c': bb['minimum']['c'],\n",
    "            'max_r': bb['maximum']['r'],\n",
    "            'max_c': bb['maximum']['c'],\n",
    "            'category': obj['category'],\n",
    "            'ref': None\n",
    "        })\n",
    "\n",
    "# Create a DataFrame from the list of rows\n",
    "train_file = pd.DataFrame(rows, columns=['path', 'min_r', 'min_c', 'max_r', 'max_c', 'category', 'ref'])\n"
   ]
  },
  {
   "cell_type": "code",
   "execution_count": 3,
   "id": "e26d8b37-1510-472c-b69a-595bad390168",
   "metadata": {
    "tags": []
   },
   "outputs": [],
   "source": [
    "# Load the JSON data into a dictionary\n",
    "with open('malaria/test.json') as f:\n",
    "    data = json.load(f)\n",
    "\n",
    "# Create an empty list to hold the data\n",
    "rows = []\n",
    "\n",
    "# Iterate through each image object in the JSON data\n",
    "for img_obj in data:\n",
    "    img_path = img_obj['image']['pathname']\n",
    "    img_shape = img_obj['image']['shape']\n",
    "    \n",
    "    # Iterate through each object in the current image\n",
    "    for obj in img_obj['objects']:\n",
    "        bb = obj['bounding_box']\n",
    "        rows.append({\n",
    "            'path': img_path,\n",
    "            'min_r': bb['minimum']['r'],\n",
    "            'min_c': bb['minimum']['c'],\n",
    "            'max_r': bb['maximum']['r'],\n",
    "            'max_c': bb['maximum']['c'],\n",
    "            'category': obj['category'],\n",
    "            'ref': None\n",
    "        })\n",
    "\n",
    "# Create a DataFrame from the list of rows\n",
    "test_file = pd.DataFrame(rows, columns=['path', 'min_r', 'min_c', 'max_r', 'max_c', 'category', 'ref'])"
   ]
  },
  {
   "cell_type": "code",
   "execution_count": null,
   "id": "3dc4ae5f-d97a-4f0e-a4ea-a145784c3f01",
   "metadata": {},
   "outputs": [],
   "source": [
    "train_file['path'] = 'malaria' + train_file['path']\n",
    "test_file['path'] = 'malaria' + test_file['path']"
   ]
  },
  {
   "cell_type": "code",
   "execution_count": 16,
   "id": "92b67efd-ae96-4957-a998-8babd12cb831",
   "metadata": {
    "tags": []
   },
   "outputs": [
    {
     "name": "stdout",
     "output_type": "stream",
     "text": [
      "(80052, 7)\n"
     ]
    },
    {
     "data": {
      "text/html": [
       "<div>\n",
       "<style scoped>\n",
       "    .dataframe tbody tr th:only-of-type {\n",
       "        vertical-align: middle;\n",
       "    }\n",
       "\n",
       "    .dataframe tbody tr th {\n",
       "        vertical-align: top;\n",
       "    }\n",
       "\n",
       "    .dataframe thead th {\n",
       "        text-align: right;\n",
       "    }\n",
       "</style>\n",
       "<table border=\"1\" class=\"dataframe\">\n",
       "  <thead>\n",
       "    <tr style=\"text-align: right;\">\n",
       "      <th></th>\n",
       "      <th>path</th>\n",
       "      <th>min_r</th>\n",
       "      <th>min_c</th>\n",
       "      <th>max_r</th>\n",
       "      <th>max_c</th>\n",
       "      <th>category</th>\n",
       "      <th>ref</th>\n",
       "    </tr>\n",
       "  </thead>\n",
       "  <tbody>\n",
       "    <tr>\n",
       "      <th>0</th>\n",
       "      <td>malaria/images/8d02117d-6c71-4e47-b50a-6cc8d5e...</td>\n",
       "      <td>1057</td>\n",
       "      <td>1440</td>\n",
       "      <td>1158</td>\n",
       "      <td>1540</td>\n",
       "      <td>red blood cell</td>\n",
       "      <td>None</td>\n",
       "    </tr>\n",
       "    <tr>\n",
       "      <th>1</th>\n",
       "      <td>malaria/images/8d02117d-6c71-4e47-b50a-6cc8d5e...</td>\n",
       "      <td>868</td>\n",
       "      <td>1303</td>\n",
       "      <td>971</td>\n",
       "      <td>1403</td>\n",
       "      <td>red blood cell</td>\n",
       "      <td>None</td>\n",
       "    </tr>\n",
       "    <tr>\n",
       "      <th>2</th>\n",
       "      <td>malaria/images/8d02117d-6c71-4e47-b50a-6cc8d5e...</td>\n",
       "      <td>578</td>\n",
       "      <td>900</td>\n",
       "      <td>689</td>\n",
       "      <td>1008</td>\n",
       "      <td>red blood cell</td>\n",
       "      <td>None</td>\n",
       "    </tr>\n",
       "    <tr>\n",
       "      <th>3</th>\n",
       "      <td>malaria/images/8d02117d-6c71-4e47-b50a-6cc8d5e...</td>\n",
       "      <td>304</td>\n",
       "      <td>611</td>\n",
       "      <td>408</td>\n",
       "      <td>713</td>\n",
       "      <td>red blood cell</td>\n",
       "      <td>None</td>\n",
       "    </tr>\n",
       "    <tr>\n",
       "      <th>4</th>\n",
       "      <td>malaria/images/8d02117d-6c71-4e47-b50a-6cc8d5e...</td>\n",
       "      <td>198</td>\n",
       "      <td>881</td>\n",
       "      <td>312</td>\n",
       "      <td>1003</td>\n",
       "      <td>red blood cell</td>\n",
       "      <td>None</td>\n",
       "    </tr>\n",
       "  </tbody>\n",
       "</table>\n",
       "</div>"
      ],
      "text/plain": [
       "                                                path  min_r  min_c  max_r  \\\n",
       "0  malaria/images/8d02117d-6c71-4e47-b50a-6cc8d5e...   1057   1440   1158   \n",
       "1  malaria/images/8d02117d-6c71-4e47-b50a-6cc8d5e...    868   1303    971   \n",
       "2  malaria/images/8d02117d-6c71-4e47-b50a-6cc8d5e...    578    900    689   \n",
       "3  malaria/images/8d02117d-6c71-4e47-b50a-6cc8d5e...    304    611    408   \n",
       "4  malaria/images/8d02117d-6c71-4e47-b50a-6cc8d5e...    198    881    312   \n",
       "\n",
       "   max_c        category   ref  \n",
       "0   1540  red blood cell  None  \n",
       "1   1403  red blood cell  None  \n",
       "2   1008  red blood cell  None  \n",
       "3    713  red blood cell  None  \n",
       "4   1003  red blood cell  None  "
      ]
     },
     "execution_count": 16,
     "metadata": {},
     "output_type": "execute_result"
    }
   ],
   "source": [
    "print(train_file.shape)\n",
    "train_file.head()"
   ]
  },
  {
   "cell_type": "code",
   "execution_count": 9,
   "id": "14f2ca12-e401-4806-ab0d-e4aa70d0c15e",
   "metadata": {
    "tags": []
   },
   "outputs": [
    {
     "name": "stdout",
     "output_type": "stream",
     "text": [
      "(5922, 7)\n"
     ]
    },
    {
     "data": {
      "text/html": [
       "<div>\n",
       "<style scoped>\n",
       "    .dataframe tbody tr th:only-of-type {\n",
       "        vertical-align: middle;\n",
       "    }\n",
       "\n",
       "    .dataframe tbody tr th {\n",
       "        vertical-align: top;\n",
       "    }\n",
       "\n",
       "    .dataframe thead th {\n",
       "        text-align: right;\n",
       "    }\n",
       "</style>\n",
       "<table border=\"1\" class=\"dataframe\">\n",
       "  <thead>\n",
       "    <tr style=\"text-align: right;\">\n",
       "      <th></th>\n",
       "      <th>path</th>\n",
       "      <th>min_r</th>\n",
       "      <th>min_c</th>\n",
       "      <th>max_r</th>\n",
       "      <th>max_c</th>\n",
       "      <th>category</th>\n",
       "      <th>ref</th>\n",
       "    </tr>\n",
       "  </thead>\n",
       "  <tbody>\n",
       "    <tr>\n",
       "      <th>0</th>\n",
       "      <td>malaria/images/8d02117d-6c71-4e47-b50a-6cc8d5e...</td>\n",
       "      <td>1057</td>\n",
       "      <td>1440</td>\n",
       "      <td>1158</td>\n",
       "      <td>1540</td>\n",
       "      <td>red blood cell</td>\n",
       "      <td>None</td>\n",
       "    </tr>\n",
       "    <tr>\n",
       "      <th>1</th>\n",
       "      <td>malaria/images/8d02117d-6c71-4e47-b50a-6cc8d5e...</td>\n",
       "      <td>868</td>\n",
       "      <td>1303</td>\n",
       "      <td>971</td>\n",
       "      <td>1403</td>\n",
       "      <td>red blood cell</td>\n",
       "      <td>None</td>\n",
       "    </tr>\n",
       "    <tr>\n",
       "      <th>2</th>\n",
       "      <td>malaria/images/8d02117d-6c71-4e47-b50a-6cc8d5e...</td>\n",
       "      <td>578</td>\n",
       "      <td>900</td>\n",
       "      <td>689</td>\n",
       "      <td>1008</td>\n",
       "      <td>red blood cell</td>\n",
       "      <td>None</td>\n",
       "    </tr>\n",
       "    <tr>\n",
       "      <th>3</th>\n",
       "      <td>malaria/images/8d02117d-6c71-4e47-b50a-6cc8d5e...</td>\n",
       "      <td>304</td>\n",
       "      <td>611</td>\n",
       "      <td>408</td>\n",
       "      <td>713</td>\n",
       "      <td>red blood cell</td>\n",
       "      <td>None</td>\n",
       "    </tr>\n",
       "    <tr>\n",
       "      <th>4</th>\n",
       "      <td>malaria/images/8d02117d-6c71-4e47-b50a-6cc8d5e...</td>\n",
       "      <td>198</td>\n",
       "      <td>881</td>\n",
       "      <td>312</td>\n",
       "      <td>1003</td>\n",
       "      <td>red blood cell</td>\n",
       "      <td>None</td>\n",
       "    </tr>\n",
       "  </tbody>\n",
       "</table>\n",
       "</div>"
      ],
      "text/plain": [
       "                                                path  min_r  min_c  max_r  \\\n",
       "0  malaria/images/8d02117d-6c71-4e47-b50a-6cc8d5e...   1057   1440   1158   \n",
       "1  malaria/images/8d02117d-6c71-4e47-b50a-6cc8d5e...    868   1303    971   \n",
       "2  malaria/images/8d02117d-6c71-4e47-b50a-6cc8d5e...    578    900    689   \n",
       "3  malaria/images/8d02117d-6c71-4e47-b50a-6cc8d5e...    304    611    408   \n",
       "4  malaria/images/8d02117d-6c71-4e47-b50a-6cc8d5e...    198    881    312   \n",
       "\n",
       "   max_c        category   ref  \n",
       "0   1540  red blood cell  None  \n",
       "1   1403  red blood cell  None  \n",
       "2   1008  red blood cell  None  \n",
       "3    713  red blood cell  None  \n",
       "4   1003  red blood cell  None  "
      ]
     },
     "execution_count": 9,
     "metadata": {},
     "output_type": "execute_result"
    }
   ],
   "source": [
    "print(test_file.shape)\n",
    "train_file.head()"
   ]
  },
  {
   "cell_type": "code",
   "execution_count": 13,
   "id": "1b7a8095-1563-4cc4-bf15-1503c2dad60c",
   "metadata": {
    "tags": []
   },
   "outputs": [],
   "source": [
    "#check if all paths have an image to it\n",
    "# Iterate over the rows of the DataFrame\n",
    "for index, row in train_file.iterrows():\n",
    "    image_path = row['path']\n",
    "    if not os.path.isfile(image_path):\n",
    "        train_file.drop(index, inplace=True)\n",
    "\n",
    "# Reset the index of the DataFrame\n",
    "train_file.reset_index(drop=True, inplace=True)"
   ]
  },
  {
   "cell_type": "code",
   "execution_count": 15,
   "id": "02881424-38cc-47a5-9086-920b64e610b5",
   "metadata": {
    "tags": []
   },
   "outputs": [
    {
     "data": {
      "text/plain": [
       "80052"
      ]
     },
     "execution_count": 15,
     "metadata": {},
     "output_type": "execute_result"
    }
   ],
   "source": [
    "len(train_file)"
   ]
  },
  {
   "cell_type": "code",
   "execution_count": 5,
   "id": "a3743137-b23c-4fb7-9c90-fc44202d0499",
   "metadata": {
    "tags": []
   },
   "outputs": [
    {
     "name": "stdout",
     "output_type": "stream",
     "text": [
      "Total number of Images in train dataset: 1208\n",
      "Total number of Images in test dataset : 120\n"
     ]
    }
   ],
   "source": [
    "train_len = len(train_file['path'].unique())\n",
    "print('Total number of Images in train dataset:', train_len)\n",
    "test_len = len(test_file['path'].unique())\n",
    "print('Total number of Images in test dataset :', test_len)"
   ]
  },
  {
   "cell_type": "code",
   "execution_count": 22,
   "id": "bd1f8b67-9e68-413d-a8b3-812d5cb55934",
   "metadata": {
    "tags": []
   },
   "outputs": [
    {
     "name": "stdout",
     "output_type": "stream",
     "text": [
      "Train dataset:\n",
      "red blood cell    77362\n",
      "trophozoite        1472\n",
      "difficult           439\n",
      "ring                353\n",
      "schizont            179\n",
      "gametocyte          144\n",
      "leukocyte           103\n",
      "Name: category, dtype: int64\n",
      "\n",
      "Test dataset:\n",
      "red blood cell    5614\n",
      "ring               169\n",
      "trophozoite        111\n",
      "gametocyte          12\n",
      "schizont            11\n",
      "difficult            5\n",
      "Name: category, dtype: int64\n",
      "\n",
      "Total dataset:\n",
      "difficult           444.0\n",
      "gametocyte          156.0\n",
      "leukocyte             NaN\n",
      "red blood cell    82976.0\n",
      "ring                522.0\n",
      "schizont            190.0\n",
      "trophozoite        1583.0\n",
      "Name: category, dtype: float64\n"
     ]
    }
   ],
   "source": [
    "train_counts = train_file['category'].value_counts()\n",
    "test_counts = test_file['category'].value_counts()\n",
    "\n",
    "# print counts for each category in train and test datasets\n",
    "print('Train dataset:')\n",
    "print(train_counts)\n",
    "print('\\nTest dataset:')\n",
    "print(test_counts)\n",
    "print('\\nTotal dataset:')\n",
    "print(train_counts + test_counts)"
   ]
  },
  {
   "cell_type": "code",
   "execution_count": null,
   "id": "d01fc808-7bda-4bc6-96f8-6395dcdc46ab",
   "metadata": {
    "tags": []
   },
   "outputs": [],
   "source": [
    "print(len(train_file))"
   ]
  },
  {
   "cell_type": "code",
   "execution_count": 18,
   "id": "4a8d9b8a-fd55-44e3-9dfc-dcb11231c313",
   "metadata": {
    "tags": []
   },
   "outputs": [
    {
     "name": "stderr",
     "output_type": "stream",
     "text": [
      "100%|███████████████████████████████████| 80052/80052 [1:10:48<00:00, 18.84it/s]\n"
     ]
    }
   ],
   "source": [
    "# cropping TRAIN images\n",
    "# create a new directory to store the cropped images\n",
    "if not os.path.exists('cropped_images'):\n",
    "    os.makedirs('cropped_images')\n",
    "\n",
    "# get the total number of rows in train_file dataframe\n",
    "total_rows = len(train_file)\n",
    "\n",
    "# iterate over rows in train_file dataframe\n",
    "for index, row in tqdm(train_file.iterrows(), total=total_rows):\n",
    "    # open image from path column\n",
    "    img = Image.open(row['path'])\n",
    "    # crop image based on coordinates\n",
    "    cropped_img = img.crop((row['min_c'], row['min_r'], row['max_c'], row['max_r']))\n",
    "    # save cropped image with new file name in the cropped_images folder\n",
    "    filename = os.path.join('cropped_images', f\"{os.path.splitext(os.path.basename(row['path']))[0]}_{str(row['category'])}_{str(index)}.png\")\n",
    "    cropped_img.save(filename)"
   ]
  },
  {
   "cell_type": "code",
   "execution_count": 19,
   "id": "22f32893-f82f-4aef-bc72-abe3b8e88bf0",
   "metadata": {},
   "outputs": [
    {
     "name": "stderr",
     "output_type": "stream",
     "text": [
      "100%|███████████████████████████████████████| 5922/5922 [02:23<00:00, 41.40it/s]\n"
     ]
    }
   ],
   "source": [
    "# cropping TEST images\n",
    "# create a new directory to store the cropped images\n",
    "if not os.path.exists('cropped_images'):\n",
    "    os.makedirs('cropped_images')\n",
    "\n",
    "# get the total number of rows in train_file dataframe\n",
    "total_rows = len(test_file)\n",
    "\n",
    "# iterate over rows in train_file dataframe\n",
    "for index, row in tqdm(test_file.iterrows(), total=total_rows):\n",
    "    # open image from path column\n",
    "    img = Image.open(row['path'])\n",
    "    # crop image based on coordinates\n",
    "    cropped_img = img.crop((row['min_c'], row['min_r'], row['max_c'], row['max_r']))\n",
    "    # save cropped image with new file name in the cropped_images folder\n",
    "    filename = os.path.join('cropped_images', f\"{os.path.splitext(os.path.basename(row['path']))[0]}_{str(row['category'])}_{str(index)}.png\")\n",
    "    cropped_img.save(filename)"
   ]
  },
  {
   "cell_type": "code",
   "execution_count": 20,
   "id": "19feabfb-e827-4302-9353-4978bebd8bab",
   "metadata": {
    "tags": []
   },
   "outputs": [
    {
     "name": "stdout",
     "output_type": "stream",
     "text": [
      "                Count\n",
      "trophozoite      1583\n",
      "ring              522\n",
      "schizont          190\n",
      "gametocyte        156\n",
      "red blood cell   5000\n"
     ]
    }
   ],
   "source": [
    "# Filtering out of all cropped images\n",
    "src_dir = \"cropped_images\"\n",
    "dest_dir = \"filtered_cropped_images\"\n",
    "os.makedirs(dest_dir, exist_ok=True)\n",
    "\n",
    "all_files = os.listdir(src_dir)\n",
    "# Filter for 'red blood cell' and limit to 5000\n",
    "rbc_files = [f for f in all_files if \"red blood cell\" in f]\n",
    "random.shuffle(rbc_files)\n",
    "rbc_files = rbc_files[:5000]\n",
    "\n",
    "# Filter for the other categories\n",
    "categories = [\"trophozoite\", \"ring\", \"schizont\", \"gametocyte\"]\n",
    "category_files = {cat: [f for f in all_files if cat in f] for cat in categories}\n",
    "\n",
    "# Copy files\n",
    "for f in rbc_files:\n",
    "    shutil.copy(os.path.join(src_dir, f), dest_dir)\n",
    "\n",
    "for cat, files in category_files.items():\n",
    "    for f in files:\n",
    "        shutil.copy(os.path.join(src_dir, f), dest_dir)\n",
    "\n",
    "# Generate and print summary table\n",
    "summary = {cat: len(files) for cat, files in category_files.items()}\n",
    "summary[\"red blood cell\"] = len(rbc_files)\n",
    "df_crop = pd.DataFrame.from_dict(summary, orient='index', columns=['Count'])\n",
    "print(df_crop)\n"
   ]
  },
  {
   "cell_type": "code",
   "execution_count": 25,
   "id": "b323b59b-b1e5-4583-8480-6c7ca526599a",
   "metadata": {
    "tags": []
   },
   "outputs": [],
   "source": [
    "def crop_images(df, image_dir, cropped_dir):\n",
    "    # create a new directory to store the cropped images\n",
    "    if not os.path.exists(cropped_dir):\n",
    "        os.makedirs(cropped_dir)\n",
    "\n",
    "    # get the total number of rows in dataframe\n",
    "    total_rows = len(df)\n",
    "\n",
    "    # iterate over rows in dataframe\n",
    "    for index, row in tqdm(df.iterrows(), total=total_rows):\n",
    "        # open image from path column\n",
    "        img = Image.open(os.path.join(image_dir, row['path']))\n",
    "        # crop image based on coordinates\n",
    "        cropped_img = img.crop((row['min_c'], row['min_r'], row['max_c'], row['max_r']))\n",
    "        # save cropped image with new file name in the cropped_images folder\n",
    "        filename = os.path.join(cropped_dir, f\"{os.path.splitext(os.path.basename(row['path']))[0]}_{str(row['category'])}_{str(index)}.png\")\n",
    "        cropped_img.save(filename)"
   ]
  },
  {
   "cell_type": "code",
   "execution_count": 29,
   "id": "0ee4c02a-7f64-412a-bd29-cfb57b0022d2",
   "metadata": {
    "tags": []
   },
   "outputs": [
    {
     "name": "stderr",
     "output_type": "stream",
     "text": [
      "100%|█████████████████████████████████████████| 198/198 [00:11<00:00, 16.83it/s]\n"
     ]
    }
   ],
   "source": [
    "# select a random image to crop\n",
    "selected_image = random.choice(train_file['path'].unique())\n",
    "\n",
    "# create a new dataframe that only contains the rows related to the selected image\n",
    "df_selected = train_file[train_file['path'] == selected_image]\n",
    "\n",
    "# crop the images\n",
    "crop_images(df_selected, '', 'crop_test')"
   ]
  }
 ],
 "metadata": {
  "kernelspec": {
   "display_name": "Python 3 (ipykernel)",
   "language": "python",
   "name": "python3"
  },
  "language_info": {
   "codemirror_mode": {
    "name": "ipython",
    "version": 3
   },
   "file_extension": ".py",
   "mimetype": "text/x-python",
   "name": "python",
   "nbconvert_exporter": "python",
   "pygments_lexer": "ipython3",
   "version": "3.8.12"
  },
  "toc": {
   "base_numbering": 1,
   "nav_menu": {},
   "number_sections": true,
   "sideBar": true,
   "skip_h1_title": false,
   "title_cell": "Table of Contents",
   "title_sidebar": "Contents",
   "toc_cell": false,
   "toc_position": {},
   "toc_section_display": true,
   "toc_window_display": false
  }
 },
 "nbformat": 4,
 "nbformat_minor": 5
}
